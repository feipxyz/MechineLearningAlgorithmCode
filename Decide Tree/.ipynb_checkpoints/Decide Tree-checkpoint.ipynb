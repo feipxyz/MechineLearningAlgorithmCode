{
 "cells": [
  {
   "cell_type": "markdown",
   "metadata": {},
   "source": [
    "# 一. 分类树 \n",
    "\n",
    "#### 鸢尾花分类"
   ]
  },
  {
   "cell_type": "code",
   "execution_count": 1,
   "metadata": {
    "collapsed": true
   },
   "outputs": [],
   "source": [
    "from itertools import product\n",
    "\n",
    "import numpy as np\n",
    "import matplotlib.pyplot as plt\n",
    "\n",
    "from sklearn import datasets\n",
    "from sklearn.tree import DecisionTreeClassifier"
   ]
  },
  {
   "cell_type": "code",
   "execution_count": 2,
   "metadata": {
    "collapsed": true
   },
   "outputs": [],
   "source": [
    "iris = datasets.load_iris()\n",
    "X = iris.data[:, [0, 2]]\n",
    "y = iris.target"
   ]
  },
  {
   "cell_type": "code",
   "execution_count": 3,
   "metadata": {
    "scrolled": true
   },
   "outputs": [
    {
     "data": {
      "text/plain": [
       "DecisionTreeClassifier(class_weight=None, criterion='gini', max_depth=4,\n",
       "            max_features=None, max_leaf_nodes=None,\n",
       "            min_impurity_decrease=0.0, min_impurity_split=None,\n",
       "            min_samples_leaf=1, min_samples_split=2,\n",
       "            min_weight_fraction_leaf=0.0, presort=False, random_state=None,\n",
       "            splitter='best')"
      ]
     },
     "execution_count": 3,
     "metadata": {},
     "output_type": "execute_result"
    }
   ],
   "source": [
    "clf = DecisionTreeClassifier(max_depth=4)\n",
    "clf.fit(X, y)"
   ]
  },
  {
   "cell_type": "code",
   "execution_count": 4,
   "metadata": {
    "collapsed": true
   },
   "outputs": [],
   "source": [
    "x_min, x_max = X[:, 0].min() - 1, X[:, 0].max() + 1\n",
    "y_min, y_max = X[:, 1].min() - 1, X[:, 1].max() + 1\n",
    "xx, yy = np.meshgrid(np.arange(x_min, x_max, 0.1),\n",
    "                     np.arange(y_min, y_max, 0.1))"
   ]
  },
  {
   "cell_type": "code",
   "execution_count": 5,
   "metadata": {
    "collapsed": true
   },
   "outputs": [],
   "source": [
    "Z = clf.predict(np.c_[xx.ravel(), yy.ravel()])\n",
    "Z = Z.reshape(xx.shape)"
   ]
  },
  {
   "cell_type": "code",
   "execution_count": 6,
   "metadata": {
    "scrolled": true
   },
   "outputs": [
    {
     "data": {
      "image/png": "[encoded data removed]",
      "text/plain": [
       "<matplotlib.figure.Figure at 0x1f8a48296d8>"
      ]
     },
     "metadata": {},
     "output_type": "display_data"
    }
   ],
   "source": [
    "plt.contourf(xx, yy, Z, alpha=0.3)\n",
    "plt.scatter(X[:, 0], X[:, 1], c=y, alpha=0.9)\n",
    "plt.show()"
   ]
  },
  {
   "cell_type": "code",
   "execution_count": 7,
   "metadata": {},
   "outputs": [
    {
     "data": {
      "image/svg+xml": [
       "<?xml version=\"1.0\" encoding=\"UTF-8\" standalone=\"no\"?>\r\n",
       "<!DOCTYPE svg PUBLIC \"-//W3C//DTD SVG 1.1//EN\"\r\n",
       " \"http://www.w3.org/Graphics/SVG/1.1/DTD/svg11.dtd\">\r\n",
       "<!-- Generated by graphviz version 2.38.0 (20140413.2041)\r\n",
       " -->\r\n",
       "<!-- Title: Tree Pages: 1 -->\r\n",
       "<svg width=\"829pt\" height=\"532pt\"\r\n",
       " viewBox=\"0.00 0.00 829.00 532.00\" xmlns=\"http://www.w3.org/2000/svg\" xmlns:xlink=\"http://www.w3.org/1999/xlink\">\r\n",
       "<g id=\"graph0\" class=\"graph\" transform=\"scale(1 1) rotate(0) translate(4 528)\">\r\n",
       "<title>Tree</title>\r\n",
       "<polygon fill=\"white\" stroke=\"none\" points=\"-4,4 -4,-528 825,-528 825,4 -4,4\"/>\r\n",
       "<!-- 0 -->\r\n",
       "<g id=\"node1\" class=\"node\"><title>0</title>\r\n",
       "<path fill=\"none\" stroke=\"black\" d=\"M397,-524C397,-524 284,-524 284,-524 278,-524 272,-518 272,-512 272,-512 272,-458 272,-458 272,-452 278,-446 284,-446 284,-446 397,-446 397,-446 403,-446 409,-452 409,-458 409,-458 409,-512 409,-512 409,-518 403,-524 397,-524\"/>\r\n",
       "<text text-anchor=\"start\" x=\"310\" y=\"-509.8\" font-family=\"Helvetica,sans-Serif\" font-size=\"14.00\">X</text>\r\n",
       "<text text-anchor=\"start\" x=\"320\" y=\"-509.8\" font-family=\"Helvetica,sans-Serif\" baseline-shift=\"sub\" font-size=\"14.00\">1</text>\r\n",
       "<text text-anchor=\"start\" x=\"327\" y=\"-509.8\" font-family=\"Helvetica,sans-Serif\" font-size=\"14.00\"> ≤ 2.45</text>\r\n",
       "<text text-anchor=\"start\" x=\"303\" y=\"-495.8\" font-family=\"Helvetica,sans-Serif\" font-size=\"14.00\">gini = 0.667</text>\r\n",
       "<text text-anchor=\"start\" x=\"293\" y=\"-481.8\" font-family=\"Helvetica,sans-Serif\" font-size=\"14.00\">samples = 150</text>\r\n",
       "<text text-anchor=\"start\" x=\"280\" y=\"-467.8\" font-family=\"Helvetica,sans-Serif\" font-size=\"14.00\">value = [50, 50, 50]</text>\r\n",
       "<text text-anchor=\"start\" x=\"294.5\" y=\"-453.8\" font-family=\"Helvetica,sans-Serif\" font-size=\"14.00\">class = setosa</text>\r\n",
       "</g>\r\n",
       "<!-- 1 -->\r\n",
       "<g id=\"node2\" class=\"node\"><title>1</title>\r\n",
       "<path fill=\"#e58139\" stroke=\"black\" d=\"M318,-405C318,-405 221,-405 221,-405 215,-405 209,-399 209,-393 209,-393 209,-349 209,-349 209,-343 215,-337 221,-337 221,-337 318,-337 318,-337 324,-337 330,-343 330,-349 330,-349 330,-393 330,-393 330,-399 324,-405 318,-405\"/>\r\n",
       "<text text-anchor=\"start\" x=\"240.5\" y=\"-389.8\" font-family=\"Helvetica,sans-Serif\" font-size=\"14.00\">gini = 0.0</text>\r\n",
       "<text text-anchor=\"start\" x=\"226\" y=\"-374.8\" font-family=\"Helvetica,sans-Serif\" font-size=\"14.00\">samples = 50</text>\r\n",
       "<text text-anchor=\"start\" x=\"217\" y=\"-359.8\" font-family=\"Helvetica,sans-Serif\" font-size=\"14.00\">value = [50, 0, 0]</text>\r\n",
       "<text text-anchor=\"start\" x=\"223.5\" y=\"-344.8\" font-family=\"Helvetica,sans-Serif\" font-size=\"14.00\">class = setosa</text>\r\n",
       "</g>\r\n",
       "<!-- 0&#45;&gt;1 -->\r\n",
       "<g id=\"edge1\" class=\"edge\"><title>0&#45;&gt;1</title>\r\n",
       "<path fill=\"none\" stroke=\"black\" d=\"M316.264,-445.769C309.736,-435.472 302.642,-424.28 295.997,-413.798\"/>\r\n",
       "<polygon fill=\"black\" stroke=\"black\" points=\"298.854,-411.768 290.544,-405.196 292.942,-415.516 298.854,-411.768\"/>\r\n",
       "<text text-anchor=\"middle\" x=\"285.079\" y=\"-425.892\" font-family=\"Helvetica,sans-Serif\" font-size=\"14.00\">True</text>\r\n",
       "</g>\r\n",
       "<!-- 2 -->\r\n",
       "<g id=\"node3\" class=\"node\"><title>2</title>\r\n",
       "<path fill=\"none\" stroke=\"black\" d=\"M465,-410C465,-410 360,-410 360,-410 354,-410 348,-404 348,-398 348,-398 348,-344 348,-344 348,-338 354,-332 360,-332 360,-332 465,-332 465,-332 471,-332 477,-338 477,-344 477,-344 477,-398 477,-398 477,-404 471,-410 465,-410\"/>\r\n",
       "<text text-anchor=\"start\" x=\"382\" y=\"-395.8\" font-family=\"Helvetica,sans-Serif\" font-size=\"14.00\">X</text>\r\n",
       "<text text-anchor=\"start\" x=\"392\" y=\"-395.8\" font-family=\"Helvetica,sans-Serif\" baseline-shift=\"sub\" font-size=\"14.00\">1</text>\r\n",
       "<text text-anchor=\"start\" x=\"399\" y=\"-395.8\" font-family=\"Helvetica,sans-Serif\" font-size=\"14.00\"> ≤ 4.75</text>\r\n",
       "<text text-anchor=\"start\" x=\"383.5\" y=\"-381.8\" font-family=\"Helvetica,sans-Serif\" font-size=\"14.00\">gini = 0.5</text>\r\n",
       "<text text-anchor=\"start\" x=\"365\" y=\"-367.8\" font-family=\"Helvetica,sans-Serif\" font-size=\"14.00\">samples = 100</text>\r\n",
       "<text text-anchor=\"start\" x=\"356\" y=\"-353.8\" font-family=\"Helvetica,sans-Serif\" font-size=\"14.00\">value = [0, 50, 50]</text>\r\n",
       "<text text-anchor=\"start\" x=\"357\" y=\"-339.8\" font-family=\"Helvetica,sans-Serif\" font-size=\"14.00\">class = versicolor</text>\r\n",
       "</g>\r\n",
       "<!-- 0&#45;&gt;2 -->\r\n",
       "<g id=\"edge2\" class=\"edge\"><title>0&#45;&gt;2</title>\r\n",
       "<path fill=\"none\" stroke=\"black\" d=\"M365.077,-445.769C370.696,-437.029 376.728,-427.645 382.545,-418.597\"/>\r\n",
       "<polygon fill=\"black\" stroke=\"black\" points=\"385.57,-420.363 388.034,-410.058 379.682,-416.578 385.57,-420.363\"/>\r\n",
       "<text text-anchor=\"middle\" x=\"393.345\" y=\"-430.788\" font-family=\"Helvetica,sans-Serif\" font-size=\"14.00\">False</text>\r\n",
       "</g>\r\n",
       "<!-- 3 -->\r\n",
       "<g id=\"node4\" class=\"node\"><title>3</title>\r\n",
       "<path fill=\"#39e581\" fill-opacity=\"0.976471\" stroke=\"black\" d=\"M393,-296C393,-296 290,-296 290,-296 284,-296 278,-290 278,-284 278,-284 278,-230 278,-230 278,-224 284,-218 290,-218 290,-218 393,-218 393,-218 399,-218 405,-224 405,-230 405,-230 405,-284 405,-284 405,-290 399,-296 393,-296\"/>\r\n",
       "<text text-anchor=\"start\" x=\"311\" y=\"-281.8\" font-family=\"Helvetica,sans-Serif\" font-size=\"14.00\">X</text>\r\n",
       "<text text-anchor=\"start\" x=\"321\" y=\"-281.8\" font-family=\"Helvetica,sans-Serif\" baseline-shift=\"sub\" font-size=\"14.00\">0</text>\r\n",
       "<text text-anchor=\"start\" x=\"328\" y=\"-281.8\" font-family=\"Helvetica,sans-Serif\" font-size=\"14.00\"> ≤ 4.95</text>\r\n",
       "<text text-anchor=\"start\" x=\"304\" y=\"-267.8\" font-family=\"Helvetica,sans-Serif\" font-size=\"14.00\">gini = 0.043</text>\r\n",
       "<text text-anchor=\"start\" x=\"298\" y=\"-253.8\" font-family=\"Helvetica,sans-Serif\" font-size=\"14.00\">samples = 45</text>\r\n",
       "<text text-anchor=\"start\" x=\"289\" y=\"-239.8\" font-family=\"Helvetica,sans-Serif\" font-size=\"14.00\">value = [0, 44, 1]</text>\r\n",
       "<text text-anchor=\"start\" x=\"286\" y=\"-225.8\" font-family=\"Helvetica,sans-Serif\" font-size=\"14.00\">class = versicolor</text>\r\n",
       "</g>\r\n",
       "<!-- 2&#45;&gt;3 -->\r\n",
       "<g id=\"edge3\" class=\"edge\"><title>2&#45;&gt;3</title>\r\n",
       "<path fill=\"none\" stroke=\"black\" d=\"M388.264,-331.769C382.724,-323.029 376.775,-313.645 371.039,-304.597\"/>\r\n",
       "<polygon fill=\"black\" stroke=\"black\" points=\"373.937,-302.63 365.626,-296.058 368.024,-306.378 373.937,-302.63\"/>\r\n",
       "</g>\r\n",
       "<!-- 8 -->\r\n",
       "<g id=\"node9\" class=\"node\"><title>8</title>\r\n",
       "<path fill=\"#8139e5\" fill-opacity=\"0.878431\" stroke=\"black\" d=\"M532,-296C532,-296 435,-296 435,-296 429,-296 423,-290 423,-284 423,-284 423,-230 423,-230 423,-224 429,-218 435,-218 435,-218 532,-218 532,-218 538,-218 544,-224 544,-230 544,-230 544,-284 544,-284 544,-290 538,-296 532,-296\"/>\r\n",
       "<text text-anchor=\"start\" x=\"453\" y=\"-281.8\" font-family=\"Helvetica,sans-Serif\" font-size=\"14.00\">X</text>\r\n",
       "<text text-anchor=\"start\" x=\"463\" y=\"-281.8\" font-family=\"Helvetica,sans-Serif\" baseline-shift=\"sub\" font-size=\"14.00\">1</text>\r\n",
       "<text text-anchor=\"start\" x=\"470\" y=\"-281.8\" font-family=\"Helvetica,sans-Serif\" font-size=\"14.00\"> ≤ 5.05</text>\r\n",
       "<text text-anchor=\"start\" x=\"446\" y=\"-267.8\" font-family=\"Helvetica,sans-Serif\" font-size=\"14.00\">gini = 0.194</text>\r\n",
       "<text text-anchor=\"start\" x=\"440\" y=\"-253.8\" font-family=\"Helvetica,sans-Serif\" font-size=\"14.00\">samples = 55</text>\r\n",
       "<text text-anchor=\"start\" x=\"431\" y=\"-239.8\" font-family=\"Helvetica,sans-Serif\" font-size=\"14.00\">value = [0, 6, 49]</text>\r\n",
       "<text text-anchor=\"start\" x=\"433.5\" y=\"-225.8\" font-family=\"Helvetica,sans-Serif\" font-size=\"14.00\">class = virginica</text>\r\n",
       "</g>\r\n",
       "<!-- 2&#45;&gt;8 -->\r\n",
       "<g id=\"edge8\" class=\"edge\"><title>2&#45;&gt;8</title>\r\n",
       "<path fill=\"none\" stroke=\"black\" d=\"M436.736,-331.769C442.276,-323.029 448.225,-313.645 453.961,-304.597\"/>\r\n",
       "<polygon fill=\"black\" stroke=\"black\" points=\"456.976,-306.378 459.374,-296.058 451.063,-302.63 456.976,-306.378\"/>\r\n",
       "</g>\r\n",
       "<!-- 4 -->\r\n",
       "<g id=\"node5\" class=\"node\"><title>4</title>\r\n",
       "<path fill=\"none\" stroke=\"black\" d=\"M249,-182C249,-182 146,-182 146,-182 140,-182 134,-176 134,-170 134,-170 134,-116 134,-116 134,-110 140,-104 146,-104 146,-104 249,-104 249,-104 255,-104 261,-110 261,-116 261,-116 261,-170 261,-170 261,-176 255,-182 249,-182\"/>\r\n",
       "<text text-anchor=\"start\" x=\"171\" y=\"-167.8\" font-family=\"Helvetica,sans-Serif\" font-size=\"14.00\">X</text>\r\n",
       "<text text-anchor=\"start\" x=\"181\" y=\"-167.8\" font-family=\"Helvetica,sans-Serif\" baseline-shift=\"sub\" font-size=\"14.00\">1</text>\r\n",
       "<text text-anchor=\"start\" x=\"188\" y=\"-167.8\" font-family=\"Helvetica,sans-Serif\" font-size=\"14.00\"> ≤ 3.9</text>\r\n",
       "<text text-anchor=\"start\" x=\"168.5\" y=\"-153.8\" font-family=\"Helvetica,sans-Serif\" font-size=\"14.00\">gini = 0.5</text>\r\n",
       "<text text-anchor=\"start\" x=\"158\" y=\"-139.8\" font-family=\"Helvetica,sans-Serif\" font-size=\"14.00\">samples = 2</text>\r\n",
       "<text text-anchor=\"start\" x=\"149\" y=\"-125.8\" font-family=\"Helvetica,sans-Serif\" font-size=\"14.00\">value = [0, 1, 1]</text>\r\n",
       "<text text-anchor=\"start\" x=\"142\" y=\"-111.8\" font-family=\"Helvetica,sans-Serif\" font-size=\"14.00\">class = versicolor</text>\r\n",
       "</g>\r\n",
       "<!-- 3&#45;&gt;4 -->\r\n",
       "<g id=\"edge4\" class=\"edge\"><title>3&#45;&gt;4</title>\r\n",
       "<path fill=\"none\" stroke=\"black\" d=\"M292.346,-217.769C280.182,-208.308 267.047,-198.092 254.542,-188.366\"/>\r\n",
       "<polygon fill=\"black\" stroke=\"black\" points=\"256.475,-185.435 246.432,-182.058 252.177,-190.961 256.475,-185.435\"/>\r\n",
       "</g>\r\n",
       "<!-- 7 -->\r\n",
       "<g id=\"node8\" class=\"node\"><title>7</title>\r\n",
       "<path fill=\"#39e581\" stroke=\"black\" d=\"M394,-177C394,-177 291,-177 291,-177 285,-177 279,-171 279,-165 279,-165 279,-121 279,-121 279,-115 285,-109 291,-109 291,-109 394,-109 394,-109 400,-109 406,-115 406,-121 406,-121 406,-165 406,-165 406,-171 400,-177 394,-177\"/>\r\n",
       "<text text-anchor=\"start\" x=\"313.5\" y=\"-161.8\" font-family=\"Helvetica,sans-Serif\" font-size=\"14.00\">gini = 0.0</text>\r\n",
       "<text text-anchor=\"start\" x=\"299\" y=\"-146.8\" font-family=\"Helvetica,sans-Serif\" font-size=\"14.00\">samples = 43</text>\r\n",
       "<text text-anchor=\"start\" x=\"290\" y=\"-131.8\" font-family=\"Helvetica,sans-Serif\" font-size=\"14.00\">value = [0, 43, 0]</text>\r\n",
       "<text text-anchor=\"start\" x=\"287\" y=\"-116.8\" font-family=\"Helvetica,sans-Serif\" font-size=\"14.00\">class = versicolor</text>\r\n",
       "</g>\r\n",
       "<!-- 3&#45;&gt;7 -->\r\n",
       "<g id=\"edge7\" class=\"edge\"><title>3&#45;&gt;7</title>\r\n",
       "<path fill=\"none\" stroke=\"black\" d=\"M341.841,-217.769C341.929,-207.986 342.023,-197.397 342.113,-187.376\"/>\r\n",
       "<polygon fill=\"black\" stroke=\"black\" points=\"345.614,-187.227 342.204,-177.196 338.614,-187.165 345.614,-187.227\"/>\r\n",
       "</g>\r\n",
       "<!-- 5 -->\r\n",
       "<g id=\"node6\" class=\"node\"><title>5</title>\r\n",
       "<path fill=\"#39e581\" stroke=\"black\" d=\"M115,-68C115,-68 12,-68 12,-68 6,-68 -7.10543e-015,-62 -7.10543e-015,-56 -7.10543e-015,-56 -7.10543e-015,-12 -7.10543e-015,-12 -7.10543e-015,-6 6,-0 12,-0 12,-0 115,-0 115,-0 121,-0 127,-6 127,-12 127,-12 127,-56 127,-56 127,-62 121,-68 115,-68\"/>\r\n",
       "<text text-anchor=\"start\" x=\"34.5\" y=\"-52.8\" font-family=\"Helvetica,sans-Serif\" font-size=\"14.00\">gini = 0.0</text>\r\n",
       "<text text-anchor=\"start\" x=\"24\" y=\"-37.8\" font-family=\"Helvetica,sans-Serif\" font-size=\"14.00\">samples = 1</text>\r\n",
       "<text text-anchor=\"start\" x=\"15\" y=\"-22.8\" font-family=\"Helvetica,sans-Serif\" font-size=\"14.00\">value = [0, 1, 0]</text>\r\n",
       "<text text-anchor=\"start\" x=\"8\" y=\"-7.8\" font-family=\"Helvetica,sans-Serif\" font-size=\"14.00\">class = versicolor</text>\r\n",
       "</g>\r\n",
       "<!-- 4&#45;&gt;5 -->\r\n",
       "<g id=\"edge5\" class=\"edge\"><title>4&#45;&gt;5</title>\r\n",
       "<path fill=\"none\" stroke=\"black\" d=\"M149.879,-103.975C138.022,-94.5063 125.278,-84.3306 113.318,-74.7803\"/>\r\n",
       "<polygon fill=\"black\" stroke=\"black\" points=\"115.182,-71.7898 105.184,-68.2849 110.814,-77.2599 115.182,-71.7898\"/>\r\n",
       "</g>\r\n",
       "<!-- 6 -->\r\n",
       "<g id=\"node7\" class=\"node\"><title>6</title>\r\n",
       "<path fill=\"#8139e5\" stroke=\"black\" d=\"M249.5,-68C249.5,-68 157.5,-68 157.5,-68 151.5,-68 145.5,-62 145.5,-56 145.5,-56 145.5,-12 145.5,-12 145.5,-6 151.5,-0 157.5,-0 157.5,-0 249.5,-0 249.5,-0 255.5,-0 261.5,-6 261.5,-12 261.5,-12 261.5,-56 261.5,-56 261.5,-62 255.5,-68 249.5,-68\"/>\r\n",
       "<text text-anchor=\"start\" x=\"174.5\" y=\"-52.8\" font-family=\"Helvetica,sans-Serif\" font-size=\"14.00\">gini = 0.0</text>\r\n",
       "<text text-anchor=\"start\" x=\"164\" y=\"-37.8\" font-family=\"Helvetica,sans-Serif\" font-size=\"14.00\">samples = 1</text>\r\n",
       "<text text-anchor=\"start\" x=\"155\" y=\"-22.8\" font-family=\"Helvetica,sans-Serif\" font-size=\"14.00\">value = [0, 0, 1]</text>\r\n",
       "<text text-anchor=\"start\" x=\"153.5\" y=\"-7.8\" font-family=\"Helvetica,sans-Serif\" font-size=\"14.00\">class = virginica</text>\r\n",
       "</g>\r\n",
       "<!-- 4&#45;&gt;6 -->\r\n",
       "<g id=\"edge6\" class=\"edge\"><title>4&#45;&gt;6</title>\r\n",
       "<path fill=\"none\" stroke=\"black\" d=\"M199.632,-103.975C200.097,-95.6898 200.592,-86.8634 201.067,-78.3884\"/>\r\n",
       "<polygon fill=\"black\" stroke=\"black\" points=\"204.568,-78.4652 201.634,-68.2849 197.579,-78.0733 204.568,-78.4652\"/>\r\n",
       "</g>\r\n",
       "<!-- 9 -->\r\n",
       "<g id=\"node10\" class=\"node\"><title>9</title>\r\n",
       "<path fill=\"#8139e5\" fill-opacity=\"0.376471\" stroke=\"black\" d=\"M529.5,-182C529.5,-182 437.5,-182 437.5,-182 431.5,-182 425.5,-176 425.5,-170 425.5,-170 425.5,-116 425.5,-116 425.5,-110 431.5,-104 437.5,-104 437.5,-104 529.5,-104 529.5,-104 535.5,-104 541.5,-110 541.5,-116 541.5,-116 541.5,-170 541.5,-170 541.5,-176 535.5,-182 529.5,-182\"/>\r\n",
       "<text text-anchor=\"start\" x=\"457\" y=\"-167.8\" font-family=\"Helvetica,sans-Serif\" font-size=\"14.00\">X</text>\r\n",
       "<text text-anchor=\"start\" x=\"467\" y=\"-167.8\" font-family=\"Helvetica,sans-Serif\" baseline-shift=\"sub\" font-size=\"14.00\">0</text>\r\n",
       "<text text-anchor=\"start\" x=\"474\" y=\"-167.8\" font-family=\"Helvetica,sans-Serif\" font-size=\"14.00\"> ≤ 6.5</text>\r\n",
       "<text text-anchor=\"start\" x=\"446\" y=\"-153.8\" font-family=\"Helvetica,sans-Serif\" font-size=\"14.00\">gini = 0.473</text>\r\n",
       "<text text-anchor=\"start\" x=\"440\" y=\"-139.8\" font-family=\"Helvetica,sans-Serif\" font-size=\"14.00\">samples = 13</text>\r\n",
       "<text text-anchor=\"start\" x=\"435\" y=\"-125.8\" font-family=\"Helvetica,sans-Serif\" font-size=\"14.00\">value = [0, 5, 8]</text>\r\n",
       "<text text-anchor=\"start\" x=\"433.5\" y=\"-111.8\" font-family=\"Helvetica,sans-Serif\" font-size=\"14.00\">class = virginica</text>\r\n",
       "</g>\r\n",
       "<!-- 8&#45;&gt;9 -->\r\n",
       "<g id=\"edge9\" class=\"edge\"><title>8&#45;&gt;9</title>\r\n",
       "<path fill=\"none\" stroke=\"black\" d=\"M483.5,-217.769C483.5,-209.57 483.5,-200.803 483.5,-192.28\"/>\r\n",
       "<polygon fill=\"black\" stroke=\"black\" points=\"487,-192.058 483.5,-182.058 480,-192.059 487,-192.058\"/>\r\n",
       "</g>\r\n",
       "<!-- 12 -->\r\n",
       "<g id=\"node13\" class=\"node\"><title>12</title>\r\n",
       "<path fill=\"#8139e5\" fill-opacity=\"0.976471\" stroke=\"black\" d=\"M672,-182C672,-182 575,-182 575,-182 569,-182 563,-176 563,-170 563,-170 563,-116 563,-116 563,-110 569,-104 575,-104 575,-104 672,-104 672,-104 678,-104 684,-110 684,-116 684,-116 684,-170 684,-170 684,-176 678,-182 672,-182\"/>\r\n",
       "<text text-anchor=\"start\" x=\"593\" y=\"-167.8\" font-family=\"Helvetica,sans-Serif\" font-size=\"14.00\">X</text>\r\n",
       "<text text-anchor=\"start\" x=\"603\" y=\"-167.8\" font-family=\"Helvetica,sans-Serif\" baseline-shift=\"sub\" font-size=\"14.00\">0</text>\r\n",
       "<text text-anchor=\"start\" x=\"610\" y=\"-167.8\" font-family=\"Helvetica,sans-Serif\" font-size=\"14.00\"> ≤ 6.05</text>\r\n",
       "<text text-anchor=\"start\" x=\"586\" y=\"-153.8\" font-family=\"Helvetica,sans-Serif\" font-size=\"14.00\">gini = 0.046</text>\r\n",
       "<text text-anchor=\"start\" x=\"580\" y=\"-139.8\" font-family=\"Helvetica,sans-Serif\" font-size=\"14.00\">samples = 42</text>\r\n",
       "<text text-anchor=\"start\" x=\"571\" y=\"-125.8\" font-family=\"Helvetica,sans-Serif\" font-size=\"14.00\">value = [0, 1, 41]</text>\r\n",
       "<text text-anchor=\"start\" x=\"573.5\" y=\"-111.8\" font-family=\"Helvetica,sans-Serif\" font-size=\"14.00\">class = virginica</text>\r\n",
       "</g>\r\n",
       "<!-- 8&#45;&gt;12 -->\r\n",
       "<g id=\"edge12\" class=\"edge\"><title>8&#45;&gt;12</title>\r\n",
       "<path fill=\"none\" stroke=\"black\" d=\"M531.288,-217.769C543.115,-208.308 555.885,-198.092 568.042,-188.366\"/>\r\n",
       "<polygon fill=\"black\" stroke=\"black\" points=\"570.305,-191.039 575.927,-182.058 565.932,-185.572 570.305,-191.039\"/>\r\n",
       "</g>\r\n",
       "<!-- 10 -->\r\n",
       "<g id=\"node11\" class=\"node\"><title>10</title>\r\n",
       "<path fill=\"#8139e5\" fill-opacity=\"0.749020\" stroke=\"black\" d=\"M389.5,-68C389.5,-68 297.5,-68 297.5,-68 291.5,-68 285.5,-62 285.5,-56 285.5,-56 285.5,-12 285.5,-12 285.5,-6 291.5,-0 297.5,-0 297.5,-0 389.5,-0 389.5,-0 395.5,-0 401.5,-6 401.5,-12 401.5,-12 401.5,-56 401.5,-56 401.5,-62 395.5,-68 389.5,-68\"/>\r\n",
       "<text text-anchor=\"start\" x=\"310\" y=\"-52.8\" font-family=\"Helvetica,sans-Serif\" font-size=\"14.00\">gini = 0.32</text>\r\n",
       "<text text-anchor=\"start\" x=\"300\" y=\"-37.8\" font-family=\"Helvetica,sans-Serif\" font-size=\"14.00\">samples = 10</text>\r\n",
       "<text text-anchor=\"start\" x=\"295\" y=\"-22.8\" font-family=\"Helvetica,sans-Serif\" font-size=\"14.00\">value = [0, 2, 8]</text>\r\n",
       "<text text-anchor=\"start\" x=\"293.5\" y=\"-7.8\" font-family=\"Helvetica,sans-Serif\" font-size=\"14.00\">class = virginica</text>\r\n",
       "</g>\r\n",
       "<!-- 9&#45;&gt;10 -->\r\n",
       "<g id=\"edge10\" class=\"edge\"><title>9&#45;&gt;10</title>\r\n",
       "<path fill=\"none\" stroke=\"black\" d=\"M433.747,-103.975C421.24,-94.4152 407.789,-84.1348 395.189,-74.505\"/>\r\n",
       "<polygon fill=\"black\" stroke=\"black\" points=\"397.121,-71.5766 387.05,-68.2849 392.87,-77.1382 397.121,-71.5766\"/>\r\n",
       "</g>\r\n",
       "<!-- 11 -->\r\n",
       "<g id=\"node12\" class=\"node\"><title>11</title>\r\n",
       "<path fill=\"#39e581\" stroke=\"black\" d=\"M535,-68C535,-68 432,-68 432,-68 426,-68 420,-62 420,-56 420,-56 420,-12 420,-12 420,-6 426,-0 432,-0 432,-0 535,-0 535,-0 541,-0 547,-6 547,-12 547,-12 547,-56 547,-56 547,-62 541,-68 535,-68\"/>\r\n",
       "<text text-anchor=\"start\" x=\"454.5\" y=\"-52.8\" font-family=\"Helvetica,sans-Serif\" font-size=\"14.00\">gini = 0.0</text>\r\n",
       "<text text-anchor=\"start\" x=\"444\" y=\"-37.8\" font-family=\"Helvetica,sans-Serif\" font-size=\"14.00\">samples = 3</text>\r\n",
       "<text text-anchor=\"start\" x=\"435\" y=\"-22.8\" font-family=\"Helvetica,sans-Serif\" font-size=\"14.00\">value = [0, 3, 0]</text>\r\n",
       "<text text-anchor=\"start\" x=\"428\" y=\"-7.8\" font-family=\"Helvetica,sans-Serif\" font-size=\"14.00\">class = versicolor</text>\r\n",
       "</g>\r\n",
       "<!-- 9&#45;&gt;11 -->\r\n",
       "<g id=\"edge11\" class=\"edge\"><title>9&#45;&gt;11</title>\r\n",
       "<path fill=\"none\" stroke=\"black\" d=\"M483.5,-103.975C483.5,-95.6898 483.5,-86.8634 483.5,-78.3884\"/>\r\n",
       "<polygon fill=\"black\" stroke=\"black\" points=\"487,-78.2849 483.5,-68.2849 480,-78.285 487,-78.2849\"/>\r\n",
       "</g>\r\n",
       "<!-- 13 -->\r\n",
       "<g id=\"node14\" class=\"node\"><title>13</title>\r\n",
       "<path fill=\"#8139e5\" fill-opacity=\"0.749020\" stroke=\"black\" d=\"M669.5,-68C669.5,-68 577.5,-68 577.5,-68 571.5,-68 565.5,-62 565.5,-56 565.5,-56 565.5,-12 565.5,-12 565.5,-6 571.5,-0 577.5,-0 577.5,-0 669.5,-0 669.5,-0 675.5,-0 681.5,-6 681.5,-12 681.5,-12 681.5,-56 681.5,-56 681.5,-62 675.5,-68 669.5,-68\"/>\r\n",
       "<text text-anchor=\"start\" x=\"590\" y=\"-52.8\" font-family=\"Helvetica,sans-Serif\" font-size=\"14.00\">gini = 0.32</text>\r\n",
       "<text text-anchor=\"start\" x=\"584\" y=\"-37.8\" font-family=\"Helvetica,sans-Serif\" font-size=\"14.00\">samples = 5</text>\r\n",
       "<text text-anchor=\"start\" x=\"575\" y=\"-22.8\" font-family=\"Helvetica,sans-Serif\" font-size=\"14.00\">value = [0, 1, 4]</text>\r\n",
       "<text text-anchor=\"start\" x=\"573.5\" y=\"-7.8\" font-family=\"Helvetica,sans-Serif\" font-size=\"14.00\">class = virginica</text>\r\n",
       "</g>\r\n",
       "<!-- 12&#45;&gt;13 -->\r\n",
       "<g id=\"edge13\" class=\"edge\"><title>12&#45;&gt;13</title>\r\n",
       "<path fill=\"none\" stroke=\"black\" d=\"M623.5,-103.975C623.5,-95.6898 623.5,-86.8634 623.5,-78.3884\"/>\r\n",
       "<polygon fill=\"black\" stroke=\"black\" points=\"627,-78.2849 623.5,-68.2849 620,-78.285 627,-78.2849\"/>\r\n",
       "</g>\r\n",
       "<!-- 14 -->\r\n",
       "<g id=\"node15\" class=\"node\"><title>14</title>\r\n",
       "<path fill=\"#8139e5\" stroke=\"black\" d=\"M809,-68C809,-68 712,-68 712,-68 706,-68 700,-62 700,-56 700,-56 700,-12 700,-12 700,-6 706,-0 712,-0 712,-0 809,-0 809,-0 815,-0 821,-6 821,-12 821,-12 821,-56 821,-56 821,-62 815,-68 809,-68\"/>\r\n",
       "<text text-anchor=\"start\" x=\"731.5\" y=\"-52.8\" font-family=\"Helvetica,sans-Serif\" font-size=\"14.00\">gini = 0.0</text>\r\n",
       "<text text-anchor=\"start\" x=\"717\" y=\"-37.8\" font-family=\"Helvetica,sans-Serif\" font-size=\"14.00\">samples = 37</text>\r\n",
       "<text text-anchor=\"start\" x=\"708\" y=\"-22.8\" font-family=\"Helvetica,sans-Serif\" font-size=\"14.00\">value = [0, 0, 37]</text>\r\n",
       "<text text-anchor=\"start\" x=\"710.5\" y=\"-7.8\" font-family=\"Helvetica,sans-Serif\" font-size=\"14.00\">class = virginica</text>\r\n",
       "</g>\r\n",
       "<!-- 12&#45;&gt;14 -->\r\n",
       "<g id=\"edge14\" class=\"edge\"><title>12&#45;&gt;14</title>\r\n",
       "<path fill=\"none\" stroke=\"black\" d=\"M672.187,-103.975C684.426,-94.4152 697.589,-84.1348 709.919,-74.505\"/>\r\n",
       "<polygon fill=\"black\" stroke=\"black\" points=\"712.156,-77.1987 717.883,-68.2849 707.847,-71.6819 712.156,-77.1987\"/>\r\n",
       "</g>\r\n",
       "</g>\r\n",
       "</svg>\r\n"
      ],
      "text/plain": [
       "<graphviz.files.Source at 0x1f8a485e6a0>"
      ]
     },
     "execution_count": 7,
     "metadata": {},
     "output_type": "execute_result"
    }
   ],
   "source": [
    "import graphviz \n",
    "from sklearn import tree\n",
    "\n",
    "dot_data = tree.export_graphviz(clf, out_file=None, # doctest: +SKIP\n",
    "                            class_names=iris.target_names,  # doctest: +SKIP\n",
    "                            filled=True, rounded=True,  # doctest: +SKIP\n",
    "                            special_characters=True)  # doctest: +SKIP\n",
    "graph = graphviz.Source(dot_data)  # doctest: +SKIP\n",
    "graph # doctest: +SKIP"
   ]
  },
  {
   "cell_type": "code",
   "execution_count": 8,
   "metadata": {},
   "outputs": [
    {
     "data": {
      "text/plain": [
       "array([0])"
      ]
     },
     "execution_count": 8,
     "metadata": {},
     "output_type": "execute_result"
    }
   ],
   "source": [
    "clf.predict(iris.data[:1, [0, 2]])"
   ]
  },
  {
   "cell_type": "code",
   "execution_count": 9,
   "metadata": {},
   "outputs": [
    {
     "data": {
      "text/plain": [
       "array([[ 1.,  0.,  0.]])"
      ]
     },
     "execution_count": 9,
     "metadata": {},
     "output_type": "execute_result"
    }
   ],
   "source": [
    "clf.predict_proba(iris.data[:1, [0, 2]])"
   ]
  },
  {
   "cell_type": "markdown",
   "metadata": {},
   "source": [
    "## 二. 回归树"
   ]
  },
  {
   "cell_type": "code",
   "execution_count": 10,
   "metadata": {},
   "outputs": [],
   "source": [
    "import numpy as np\n",
    "from sklearn.tree import  DecisionTreeRegressor\n",
    "import matplotlib.pyplot as plt"
   ]
  },
  {
   "cell_type": "code",
   "execution_count": 11,
   "metadata": {},
   "outputs": [],
   "source": [
    "rng = np.random.RandomState(1)\n",
    "X = np.sort(5 * rng.rand(80, 1), axis=0)\n",
    "y = np.sin(X).ravel()\n",
    "y[::5] += 3 * (0.5 - rng.rand(16))"
   ]
  },
  {
   "cell_type": "code",
   "execution_count": 12,
   "metadata": {},
   "outputs": [
    {
     "data": {
      "text/plain": [
       "DecisionTreeRegressor(criterion='mse', max_depth=5, max_features=None,\n",
       "           max_leaf_nodes=None, min_impurity_decrease=0.0,\n",
       "           min_impurity_split=None, min_samples_leaf=1,\n",
       "           min_samples_split=2, min_weight_fraction_leaf=0.0,\n",
       "           presort=False, random_state=None, splitter='best')"
      ]
     },
     "execution_count": 12,
     "metadata": {},
     "output_type": "execute_result"
    }
   ],
   "source": [
    "regr_1 = DecisionTreeRegressor(max_depth=2)\n",
    "regr_2 = DecisionTreeRegressor(max_depth=5)\n",
    "regr_1.fit(X, y)\n",
    "regr_2.fit(X, y)"
   ]
  },
  {
   "cell_type": "code",
   "execution_count": 13,
   "metadata": {
    "collapsed": true
   },
   "outputs": [],
   "source": [
    "X_test = np.arange(0.0, 5.0, 0.01)[:, np.newaxis]\n",
    "y_1 = regr_1.predict(X_test)\n",
    "y_2 = regr_2.predict(X_test)"
   ]
  },
  {
   "cell_type": "code",
   "execution_count": 14,
   "metadata": {},
   "outputs": [
    {
     "data": {
      "image/png": "[encoded data removed]",
      "text/plain": [
       "<matplotlib.figure.Figure at 0x1f8a4bd2748>"
      ]
     },
     "metadata": {},
     "output_type": "display_data"
    }
   ],
   "source": [
    "plt.figure()\n",
    "plt.scatter(X, y, s=20, edgecolors='black', c='darkorange', label='data')\n",
    "plt.plot(X_test, y_1, color='cornflowerblue', label='max_dapth=2', linewidth=2)\n",
    "plt.plot(X_test, y_2, color='yellowgreen', label='max_depth=5', linewidth=2)\n",
    "plt.xlabel('data')\n",
    "plt.ylabel('target')\n",
    "plt.title('Decision Tree Regression')\n",
    "plt.legend()\n",
    "plt.show()"
   ]
  },
  {
   "cell_type": "code",
   "execution_count": null,
   "metadata": {
    "collapsed": true
   },
   "outputs": [],
   "source": []
  }
 ],
 "metadata": {
  "kernelspec": {
   "display_name": "Python 3",
   "language": "python",
   "name": "python3"
  },
  "language_info": {
   "codemirror_mode": {
    "name": "ipython",
    "version": 3
   },
   "file_extension": ".py",
   "mimetype": "text/x-python",
   "name": "python",
   "nbconvert_exporter": "python",
   "pygments_lexer": "ipython3",
   "version": "3.6.3"
  }
 },
 "nbformat": 4,
 "nbformat_minor": 2
}
